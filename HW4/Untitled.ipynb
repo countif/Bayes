{
 "cells": [
  {
   "cell_type": "code",
   "execution_count": 45,
   "metadata": {
    "collapsed": false
   },
   "outputs": [
    {
     "name": "stdout",
     "output_type": "stream",
     "text": [
      "[ 0.25        0.33333333  0.375     ]\n",
      "[ 0.75        0.66666667  0.625     ]\n"
     ]
    }
   ],
   "source": [
    "import numpy as np\n",
    "from scipy.stats import multivariate_normal\n",
    "\n",
    "X = np.loadtxt('data.txt',delimiter=',')\n",
    "K = 4\n",
    "#print norm.pdf(data[0],loc=0,scale=0.1)\n",
    "X = np.asarray(X)\n",
    "X_shape = np.shape(X)\n",
    "N = X_shape[0]\n",
    "d = X_shape[1]        \n",
    "logLikelihoods = []\n",
    "K = K\n",
    "alphas = np.random.normal(size=(1,K))\n",
    "\n",
    "p = np.asarray([[1.,2.,3.],[3.,4.,5.]])\n",
    "\n",
    "for i in range(len(p)):\n",
    "    print p[i]/np.sum(p,axis=0)"
   ]
  },
  {
   "cell_type": "code",
   "execution_count": null,
   "metadata": {
    "collapsed": true
   },
   "outputs": [],
   "source": []
  }
 ],
 "metadata": {
  "anaconda-cloud": {},
  "kernelspec": {
   "display_name": "Python [default]",
   "language": "python",
   "name": "python2"
  },
  "language_info": {
   "codemirror_mode": {
    "name": "ipython",
    "version": 2
   },
   "file_extension": ".py",
   "mimetype": "text/x-python",
   "name": "python",
   "nbconvert_exporter": "python",
   "pygments_lexer": "ipython2",
   "version": "2.7.12"
  }
 },
 "nbformat": 4,
 "nbformat_minor": 0
}
