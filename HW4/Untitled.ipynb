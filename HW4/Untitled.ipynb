{
 "cells": [
  {
   "cell_type": "code",
   "execution_count": 4,
   "metadata": {
    "collapsed": false
   },
   "outputs": [
    {
     "name": "stdout",
     "output_type": "stream",
     "text": [
      "[[[ 0.96807003  0.78989445]\n",
      "  [ 0.8696877   0.1107322 ]]\n",
      "\n",
      " [[ 0.26100839  0.45041074]\n",
      "  [ 0.47306504  0.2743308 ]]\n",
      "\n",
      " [[ 0.46984475  0.42733223]\n",
      "  [ 0.19182933  0.23865411]]\n",
      "\n",
      " [[ 0.95151851  0.68188119]\n",
      "  [ 0.11003421  0.27904341]]]\n",
      "[[[ 1.56109282  0.92938535]\n",
      "  [ 0.92938535  0.76861832]]\n",
      "\n",
      " [[ 0.27099522  0.24703548]\n",
      "  [ 0.24703548  0.29904792]]\n",
      "\n",
      " [[ 0.40336692  0.19211459]\n",
      "  [ 0.19211459  0.09375427]]\n",
      "\n",
      " [[ 1.37034942  0.29497404]\n",
      "  [ 0.29497404  0.08997275]]]\n"
     ]
    }
   ],
   "source": [
    "import numpy as np\n",
    "from scipy.stats import multivariate_normal\n",
    "\n",
    "X = np.loadtxt('data.txt',delimiter=',')\n",
    "K = 4\n",
    "#print norm.pdf(data[0],loc=0,scale=0.1)\n",
    "X = np.asarray(X)\n",
    "X_shape = np.shape(X)\n",
    "N = X_shape[0]\n",
    "d = X_shape[1]        \n",
    "logLikelihoods = []\n",
    "K = K\n",
    "phi = np.ones((N,K))\n",
    "pi = np.random.normal((1,K))\n",
    "pi = pi/np.sum(pi)\n",
    "mu = np.random.normal(size=(K,d))\n",
    "sgm = np.random.uniform(size=(K,d,d))\n",
    "\n",
    "print sgm\n",
    "for i in range(K):\n",
    "    sgm[i] = sgm[i].dot(sgm[i].T)\n",
    "print sgm\n",
    "\n",
    "#print multivariate_normal.logpdf(X,mu[1],sgm[1])\n",
    "#mj = 0\n",
    "#nj = np.sum(phi,axis=0)\n",
    "\n",
    "#for i in range(len(X)):\n",
    "#    for j in range(K):\n",
    "#        mu[j] += 1/nj * phi[i][j] * X[i]\n",
    "\n",
    "#print mu"
   ]
  },
  {
   "cell_type": "code",
   "execution_count": null,
   "metadata": {
    "collapsed": true
   },
   "outputs": [],
   "source": []
  },
  {
   "cell_type": "code",
   "execution_count": null,
   "metadata": {
    "collapsed": true
   },
   "outputs": [],
   "source": []
  }
 ],
 "metadata": {
  "kernelspec": {
   "display_name": "Python 2",
   "language": "python",
   "name": "python2"
  },
  "language_info": {
   "codemirror_mode": {
    "name": "ipython",
    "version": 2
   },
   "file_extension": ".py",
   "mimetype": "text/x-python",
   "name": "python",
   "nbconvert_exporter": "python",
   "pygments_lexer": "ipython2",
   "version": "2.7.12"
  }
 },
 "nbformat": 4,
 "nbformat_minor": 0
}
