{
 "cells": [
  {
   "cell_type": "code",
   "execution_count": 72,
   "metadata": {
    "collapsed": false
   },
   "outputs": [
    {
     "name": "stdout",
     "output_type": "stream",
     "text": [
      "[[-1.82481275  1.91697358]\n",
      " [-0.28528019  0.44710861]]\n"
     ]
    }
   ],
   "source": [
    "import numpy as np\n",
    "from scipy.stats import multivariate_normal\n",
    "\n",
    "X = np.loadtxt('data.txt',delimiter=',')\n",
    "K = 2\n",
    "#print norm.pdf(data[0],loc=0,scale=0.1)\n",
    "X = np.asarray(X)\n",
    "X_shape = np.shape(X)\n",
    "N = X_shape[0]\n",
    "d = X_shape[1]        \n",
    "logLikelihoods = []\n",
    "K = K\n",
    "phi = np.ones((N,K))\n",
    "pi = np.random.normal((1,K))\n",
    "pi = pi/np.sum(pi)\n",
    "mu = np.random.normal(size=(K,d))\n",
    "sgm = np.random.uniform(size=(K,d,d))\n",
    "\n",
    "#for i in range(np.shape(sgm)[0]):\n",
    "#    sgm[i] = sgm[i].dot(sgm[i].T)\n",
    "#print sgm\n",
    "\n",
    "#print multivariate_normal.logpdf(X,mu[1],sgm[1])\n",
    "mj = 0\n",
    "nj = np.sum(phi,axis=0)\n",
    "\n",
    "for i in range(len(X)):\n",
    "    for j in range(K):\n",
    "        mu[j] += 1/nj * phi[i][j] * X[i]\n",
    "\n",
    "print mu"
   ]
  },
  {
   "cell_type": "code",
   "execution_count": null,
   "metadata": {
    "collapsed": true
   },
   "outputs": [],
   "source": []
  }
 ],
 "metadata": {
  "kernelspec": {
   "display_name": "Python 2",
   "language": "python",
   "name": "python2"
  },
  "language_info": {
   "codemirror_mode": {
    "name": "ipython",
    "version": 2
   },
   "file_extension": ".py",
   "mimetype": "text/x-python",
   "name": "python",
   "nbconvert_exporter": "python",
   "pygments_lexer": "ipython2",
   "version": "2.7.12"
  }
 },
 "nbformat": 4,
 "nbformat_minor": 0
}
