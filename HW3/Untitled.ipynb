{
 "cells": [
  {
   "cell_type": "code",
   "execution_count": 3,
   "metadata": {
    "collapsed": false
   },
   "outputs": [],
   "source": [
    "import pandas as pd\n",
    "import numpy as np\n",
    "from scipy.special import digamma, gammaln\n",
    "\n",
    "X_set1 = pd.read_csv(\"./data_csv/X_set1.csv\")\n",
    "X_set2 = pd.read_csv(\"./data_csv/X_set2.csv\")\n",
    "X_set3 = pd.read_csv(\"./data_csv/X_set3.csv\")\n",
    "y_set1 = pd.read_csv(\"./data_csv/y_set1.csv\")\n",
    "y_set2 = pd.read_csv(\"./data_csv/y_set2.csv\")\n",
    "y_set3 = pd.read_csv(\"./data_csv/y_set3.csv\")\n",
    "z_set1 = pd.read_csv(\"./data_csv/z_set1.csv\")\n",
    "z_set2 = pd.read_csv(\"./data_csv/z_set2.csv\")\n",
    "z_set3 = pd.read_csv(\"./data_csv/z_set3.csv\")\n",
    "\n",
    "X = np.asarray(X_set1)\n",
    "y = np.asarray(y_set1)\n",
    "d = np.shape(X)[1]\n",
    "N = np.shape(X)[0]\n",
    "a0 = float(10**-16)\n",
    "b0 = float(10**-16)\n",
    "e0 = float(1)\n",
    "f0 = float(1)\n",
    "a = a0\n",
    "b = np.full((d),b0)\n",
    "e = e0\n",
    "f = f0\n",
    "mu = np.zeros((1,d))\n",
    "sgm = np.identity((d))\n"
   ]
  },
  {
   "cell_type": "code",
   "execution_count": 21,
   "metadata": {
    "collapsed": false
   },
   "outputs": [],
   "source": [
    "f = f0 + (0.5 * np.sum(((y - X.dot(mu.T)) ** 2) + np.diag(X.dot(sgm).dot(X.T))))\n",
    "\n",
    "#np.shape(np.diag(X.dot(sgm).dot(X.T)))\n",
    "#np.shape(X),np.shape(mu)\n",
    "#np.sum(X.dot(mu.T))"
   ]
  },
  {
   "cell_type": "code",
   "execution_count": null,
   "metadata": {
    "collapsed": true
   },
   "outputs": [],
   "source": []
  }
 ],
 "metadata": {
  "kernelspec": {
   "display_name": "Python 2",
   "language": "python",
   "name": "python2"
  },
  "language_info": {
   "codemirror_mode": {
    "name": "ipython",
    "version": 2
   },
   "file_extension": ".py",
   "mimetype": "text/x-python",
   "name": "python",
   "nbconvert_exporter": "python",
   "pygments_lexer": "ipython2",
   "version": "2.7.12"
  }
 },
 "nbformat": 4,
 "nbformat_minor": 0
}
